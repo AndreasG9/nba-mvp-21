{
 "cells": [
  {
   "cell_type": "markdown",
   "metadata": {},
   "source": [
    "# Predict the NBA 2020-21 MVP Award Ladder Rankings and Winner"
   ]
  },
  {
   "cell_type": "markdown",
   "metadata": {},
   "source": [
    "## I. Load datasets, data preprocessing"
   ]
  },
  {
   "cell_type": "code",
   "execution_count": 17,
   "metadata": {},
   "outputs": [
    {
     "name": "stdout",
     "output_type": "stream",
     "text": [
      "Historical dataset preview\n",
      "                player   season   per  ts_pct  usg_pct  bpm  vorp   win_pct  \\\n",
      "0        Julius Erving  1980-81  25.1   0.572     28.4  7.5   6.9  0.756098   \n",
      "1           Larry Bird  1980-81  19.9   0.528     24.3  4.3   5.2  0.756098   \n",
      "2  Kareem Abdul-Jabbar  1980-81  25.5   0.616     26.3  6.1   6.1  0.658537   \n",
      "3         Moses Malone  1980-81  25.1   0.585     27.6  3.3   4.3  0.487805   \n",
      "4        George Gervin  1980-81  22.9   0.555     32.3  2.9   3.5  0.634146   \n",
      "\n",
      "   votes_first  points_won  ...  pts_per_g  trb_per_g  ast_per_g  stl_per_g  \\\n",
      "0         28.0       454.0  ...       24.6        8.0        4.4        2.1   \n",
      "1         20.0       423.0  ...       21.2       10.9        5.5        2.0   \n",
      "2          8.0       286.0  ...       26.2       10.3        3.4        0.7   \n",
      "3          8.0       180.0  ...       27.8       14.8        1.8        1.0   \n",
      "4          1.0        83.0  ...       27.1        5.1        3.2        1.1   \n",
      "\n",
      "   blk_per_g  fg_pct  fg3_pct  ft_pct    ws  ws_per_48  \n",
      "0        1.8   0.521    0.222   0.787  13.8      0.231  \n",
      "1        0.8   0.478    0.270   0.863  10.8      0.160  \n",
      "2        2.9   0.574    0.000   0.766  14.3      0.230  \n",
      "3        1.9   0.522    0.333   0.757  13.7      0.202  \n",
      "4        0.7   0.492    0.257   0.826  10.5      0.182  \n",
      "\n",
      "[5 rows x 24 columns]\n",
      "\n",
      "\n",
      "Current dataset preview\n",
      "                  player     g  mp_per_g  pts_per_g  trb_per_g  ast_per_g  \\\n",
      "0           Nikola Jokic  48.0      35.6       26.5       11.0        8.4   \n",
      "1         Damian Lillard  46.0      36.1       29.9        4.3        7.8   \n",
      "2           James Harden  33.0      38.3       26.1        8.9       11.2   \n",
      "3  Giannis Antetokounmpo  45.0      34.0       28.8       11.4        6.2   \n",
      "4            Luka Doncic  42.0      35.0       28.6        8.1        8.9   \n",
      "\n",
      "   stl_per_g  blk_per_g  fg_pct  fg3_pct  ft_pct   win_pct   season   per  \\\n",
      "0        1.5        0.6   0.567    0.429   0.867  0.625000  2020-21  31.2   \n",
      "1        0.9        0.3   0.449    0.381   0.936  0.604167  2020-21  26.6   \n",
      "2        1.3        0.7   0.468    0.362   0.867  0.693878  2020-21  25.2   \n",
      "3        1.1        1.3   0.565    0.302   0.687  0.645833  2020-21  29.0   \n",
      "4        1.0        0.6   0.487    0.376   0.738  0.553191  2020-21  26.3   \n",
      "\n",
      "   ts_pct  usg_pct   bpm  vorp    ws  ws_per_48  \n",
      "0   0.646     29.0  11.6   5.8  10.7      0.300  \n",
      "1   0.624     32.4   5.9   3.3   7.4      0.214  \n",
      "2   0.617     28.9   7.0   2.8   5.8      0.222  \n",
      "3   0.631     32.8   8.5   4.1   7.8      0.246  \n",
      "4   0.598     35.9   7.5   3.5   5.4      0.177  \n",
      "\n",
      "player         0\n",
      "season         0\n",
      "per            0\n",
      "ts_pct         0\n",
      "usg_pct        0\n",
      "bpm            0\n",
      "vorp           0\n",
      "win_pct        0\n",
      "votes_first    0\n",
      "points_won     0\n",
      "points_max     0\n",
      "award_share    0\n",
      "g              0\n",
      "mp_per_g       0\n",
      "pts_per_g      0\n",
      "trb_per_g      0\n",
      "ast_per_g      0\n",
      "stl_per_g      0\n",
      "blk_per_g      0\n",
      "fg_pct         0\n",
      "fg3_pct        0\n",
      "ft_pct         0\n",
      "ws             0\n",
      "ws_per_48      0\n",
      "dtype: int64\n",
      "There are no missing values in the historical dataset\n",
      "\n",
      "\n",
      "player       0\n",
      "g            0\n",
      "mp_per_g     0\n",
      "pts_per_g    0\n",
      "trb_per_g    0\n",
      "ast_per_g    0\n",
      "stl_per_g    0\n",
      "blk_per_g    0\n",
      "fg_pct       0\n",
      "fg3_pct      0\n",
      "ft_pct       0\n",
      "win_pct      0\n",
      "season       0\n",
      "per          0\n",
      "ts_pct       0\n",
      "usg_pct      0\n",
      "bpm          0\n",
      "vorp         0\n",
      "ws           0\n",
      "ws_per_48    0\n",
      "dtype: int64\n",
      "There are no missing values in the current dataset\n"
     ]
    }
   ],
   "source": [
    "import pandas as pd\n",
    "import numpy as np\n",
    "\n",
    "# load historical NBA MVP award voting and player stats data from 1980-1981 to 2019-2020 NBA season.\n",
    "df_historical = pd.read_csv(\"historical.csv\")\n",
    "df_historical = df_historical.drop(df_historical.columns[0], axis=1)\n",
    "print(\"Historical dataset preview\")\n",
    "print(df_historical.head(5))\n",
    "\n",
    "# load current NBA MVP ladder and player stats (week 4/2/21) from current 2020-2021 NBA season. \n",
    "df_current = pd.read_csv(\"current.csv\")\n",
    "df_current = df_current.drop(df_current.columns[0], axis=1)\n",
    "print(\"\\n\\nCurrent dataset preview\")\n",
    "print(df_current.head(5))\n",
    "\n",
    "# check missing values\n",
    "print(\"\")\n",
    "print(df_historical.isnull().sum())\n",
    "print(\"There are no missing values in the historical dataset\")\n",
    "\n",
    "print(\"\\n\")\n",
    "print(df_current.isnull().sum())\n",
    "print(\"There are no missing values in the current dataset\")"
   ]
  },
  {
   "cell_type": "markdown",
   "metadata": {},
   "source": [
    "## Split the preprocessed datasets\n",
    "\n"
   ]
  },
  {
   "cell_type": "code",
   "execution_count": 20,
   "metadata": {},
   "outputs": [],
   "source": [
    "#drop player, and season \n",
    "selection = [\"g\", \"mp_per_g\", \"per\"]\n",
    "\n",
    "# y will be award SHARE\n",
    "\n",
    "# normalize or center?"
   ]
  }
 ],
 "metadata": {
  "kernelspec": {
   "display_name": "Python 3",
   "language": "python",
   "name": "python3"
  },
  "language_info": {
   "codemirror_mode": {
    "name": "ipython",
    "version": 3
   },
   "file_extension": ".py",
   "mimetype": "text/x-python",
   "name": "python",
   "nbconvert_exporter": "python",
   "pygments_lexer": "ipython3",
   "version": "3.8.5"
  }
 },
 "nbformat": 4,
 "nbformat_minor": 4
}
